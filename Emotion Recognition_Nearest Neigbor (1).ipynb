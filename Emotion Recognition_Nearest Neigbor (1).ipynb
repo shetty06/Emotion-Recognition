{
 "cells": [
  {
   "cell_type": "code",
   "execution_count": 9,
   "metadata": {},
   "outputs": [],
   "source": [
    "import pandas as pd\n",
    "import numpy as np\n",
    "import cv2\n",
    "dataset_path = 'fer2013.csv'\n",
    "image_size=(48,48)"
   ]
  },
  {
   "cell_type": "code",
   "execution_count": 10,
   "metadata": {},
   "outputs": [],
   "source": [
    "def load_fer2013():\n",
    "    data = pd.read_csv(dataset_path)\n",
    "    pixels = data['pixels'].tolist()\n",
    "    width, height = 48, 48\n",
    "    faces = []\n",
    "    for pixel_sequence in pixels:\n",
    "        face = [int(pixel) for pixel in pixel_sequence.split(' ')]\n",
    "        face = np.asarray(face).reshape(width, height)\n",
    "        face = cv2.resize(face.astype('uint8'),image_size)\n",
    "        faces.append(face.astype('float32'))\n",
    "    faces = np.asarray(faces)\n",
    "    faces = np.expand_dims(faces, -1)\n",
    "    emotions = pd.get_dummies(data['emotion']).as_matrix()\n",
    "    return faces, emotions"
   ]
  },
  {
   "cell_type": "code",
   "execution_count": 11,
   "metadata": {},
   "outputs": [],
   "source": [
    "def preprocess_input(x, v2=True):\n",
    "    x = x.astype('float32')\n",
    "    x = x / 255.0\n",
    "    if v2:\n",
    "        x = x - 0.5\n",
    "        x = x * 2.0\n",
    "    return x"
   ]
  },
  {
   "cell_type": "code",
   "execution_count": 12,
   "metadata": {},
   "outputs": [
    {
     "name": "stderr",
     "output_type": "stream",
     "text": [
      "C:\\Users\\Aditya\\Anaconda3\\lib\\site-packages\\ipykernel_launcher.py:13: FutureWarning: Method .as_matrix will be removed in a future version. Use .values instead.\n",
      "  del sys.path[0]\n"
     ]
    }
   ],
   "source": [
    "faces, emotions = load_fer2013()\n",
    "faces = preprocess_input(faces)"
   ]
  },
  {
   "cell_type": "code",
   "execution_count": 36,
   "metadata": {},
   "outputs": [],
   "source": [
    "from sklearn.model_selection import train_test_split\n",
    "num_samples, num_classes = emotions.shape\n",
    "xtrain, xtest,ytrain,ytest = train_test_split(faces, emotions,test_size=0.2,shuffle=True)"
   ]
  },
  {
   "cell_type": "markdown",
   "metadata": {},
   "source": [
    "# Convert the 4 dimensional data into 2 dimensional data"
   ]
  },
  {
   "cell_type": "code",
   "execution_count": 51,
   "metadata": {},
   "outputs": [
    {
     "name": "stdout",
     "output_type": "stream",
     "text": [
      "[[ 0.88235295  0.9137255   0.92941177 ...  0.92941177  0.92941177\n",
      "   0.92941177]\n",
      " [-0.41176468 -0.41176468 -0.42745095 ...  0.21568632  0.26274514\n",
      "   0.21568632]\n",
      " [ 0.73333335  0.70980394  0.62352943 ...  0.6         0.5764706\n",
      "   0.5058824 ]\n",
      " ...\n",
      " [ 0.09019613  0.20784318  0.20784318 ... -0.38823527 -0.41176468\n",
      "  -0.4352941 ]\n",
      " [-0.41960782 -0.4352941  -0.47450978 ...  0.22352946  0.26274514\n",
      "   0.2941177 ]\n",
      " [ 0.06666672  0.09803927 -0.42745095 ...  0.05098045  0.06666672\n",
      "   0.05098045]]\n"
     ]
    }
   ],
   "source": [
    "x=xtrain.shape[0]\n",
    "y=xtrain.shape[1]*xtrain.shape[2]\n",
    "xtrain.resize((x,y)) # a 2D array\n",
    "print(xtrain)"
   ]
  },
  {
   "cell_type": "code",
   "execution_count": 52,
   "metadata": {},
   "outputs": [
    {
     "name": "stdout",
     "output_type": "stream",
     "text": [
      "[[ 0.99215686  0.99215686  0.99215686 ... -0.46666664 -0.0745098\n",
      "   0.06666672]\n",
      " [ 0.4666667   0.49803925  0.5058824  ... -0.08235294 -0.06666666\n",
      "  -0.08235294]\n",
      " [ 0.60784316 -0.77254903 -0.8666667  ...  0.70980394  0.96862745\n",
      "   0.9843137 ]\n",
      " ...\n",
      " [-0.5137255  -0.41960782 -0.2235294  ... -0.26274508 -0.34117645\n",
      "  -0.2862745 ]\n",
      " [-1.         -1.         -1.         ... -0.9372549  -0.94509804\n",
      "  -0.9372549 ]\n",
      " [ 0.13725495 -0.11372548 -0.49019605 ...  0.32549024  0.5294118\n",
      "   0.52156866]]\n"
     ]
    }
   ],
   "source": [
    "x=xtest.shape[0]\n",
    "y=xtest.shape[1]*xtest.shape[2]\n",
    "xtest.resize((x,y)) # a 2D array\n",
    "print(xtest)"
   ]
  },
  {
   "cell_type": "markdown",
   "metadata": {},
   "source": [
    "# Fit the model\n",
    "KNN"
   ]
  },
  {
   "cell_type": "code",
   "execution_count": 57,
   "metadata": {},
   "outputs": [
    {
     "name": "stdout",
     "output_type": "stream",
     "text": [
      "nearest neighbors accuracy:  0.19908052382279187\n"
     ]
    }
   ],
   "source": [
    "from sklearn.neighbors import KNeighborsClassifier\n",
    "from sklearn.metrics import accuracy_score\n",
    "clf_knn = KNeighborsClassifier()\n",
    "clf_knn.fit(xtrain, ytrain)\n",
    "y_pred_knn = clf_knn.predict(xtest)\n",
    "acc_knn = accuracy_score(ytest, y_pred_knn)\n",
    "print (\"nearest neighbors accuracy: \",acc_knn)"
   ]
  },
  {
   "cell_type": "code",
   "execution_count": 58,
   "metadata": {},
   "outputs": [],
   "source": [
    "from sklearn.svm import LinearSVC\n",
    "clf_svm = LinearSVC()\n",
    "clf_svm.fit(xtrain, ytrain)\n",
    "y_pred_svm = clf_svm.predict(xtest)\n",
    "acc_svm = accuracy_score(ytest, y_pred_svm)"
   ]
  },
  {
   "cell_type": "markdown",
   "metadata": {},
   "source": [
    "# Result\n",
    "\n",
    "# Accuracy\n",
    "The accuracy score of Nearest Neighbor is 20%.\n",
    "\n",
    "KNN is very simple algorithm.It works on the minimum distance from the query instance to the training samples to determine the nearest neighbor. After we gather the K nearest neighbor, we take the majority of the k nearest neighbor, to be the prediction of the query instance."
   ]
  },
  {
   "cell_type": "code",
   "execution_count": null,
   "metadata": {},
   "outputs": [],
   "source": []
  },
  {
   "cell_type": "code",
   "execution_count": null,
   "metadata": {},
   "outputs": [],
   "source": []
  },
  {
   "cell_type": "code",
   "execution_count": null,
   "metadata": {},
   "outputs": [],
   "source": []
  },
  {
   "cell_type": "code",
   "execution_count": null,
   "metadata": {},
   "outputs": [],
   "source": []
  },
  {
   "cell_type": "code",
   "execution_count": null,
   "metadata": {},
   "outputs": [],
   "source": []
  }
 ],
 "metadata": {
  "kernelspec": {
   "display_name": "Python 3",
   "language": "python",
   "name": "python3"
  },
  "language_info": {
   "codemirror_mode": {
    "name": "ipython",
    "version": 3
   },
   "file_extension": ".py",
   "mimetype": "text/x-python",
   "name": "python",
   "nbconvert_exporter": "python",
   "pygments_lexer": "ipython3",
   "version": "3.7.1"
  }
 },
 "nbformat": 4,
 "nbformat_minor": 2
}

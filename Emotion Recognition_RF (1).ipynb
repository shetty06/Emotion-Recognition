{
 "cells": [
  {
   "cell_type": "code",
   "execution_count": 67,
   "metadata": {},
   "outputs": [],
   "source": [
    "import pandas as pd\n",
    "import numpy as np\n",
    "import cv2\n",
    "dataset_path = 'fer2013.csv'\n",
    "image_size=(48,48)"
   ]
  },
  {
   "cell_type": "markdown",
   "metadata": {},
   "source": [
    "# Imported the dataset\n",
    "Load the dataset, used emotions column for target variable. The input is in the form of pixels."
   ]
  },
  {
   "cell_type": "code",
   "execution_count": 68,
   "metadata": {},
   "outputs": [],
   "source": [
    "def load_fer2013():\n",
    "    data = pd.read_csv(dataset_path)\n",
    "    pixels = data['pixels'].tolist()\n",
    "    width, height = 48, 48\n",
    "    faces = []\n",
    "    for pixel_sequence in pixels:\n",
    "        face = [int(pixel) for pixel in pixel_sequence.split(' ')]\n",
    "        face = np.asarray(face).reshape(width, height)\n",
    "        face = cv2.resize(face.astype('uint8'),image_size)\n",
    "        faces.append(face.astype('float32'))\n",
    "    faces = np.asarray(faces)\n",
    "    faces = np.expand_dims(faces, -1)\n",
    "    emotions = pd.get_dummies(data['emotion']).as_matrix()\n",
    "    return faces, emotions"
   ]
  },
  {
   "cell_type": "markdown",
   "metadata": {},
   "source": [
    "# Preprocessing data\n",
    "Convert the each pixel in the range of 0 to 1 by dividing each pixel by 255."
   ]
  },
  {
   "cell_type": "code",
   "execution_count": 69,
   "metadata": {},
   "outputs": [],
   "source": [
    "def preprocess_input(x, v2=True):\n",
    "    x = x.astype('float32')\n",
    "    x = x / 255.0\n",
    "    if v2:\n",
    "        x = x - 0.5\n",
    "        x = x * 2.0\n",
    "    return x"
   ]
  },
  {
   "cell_type": "code",
   "execution_count": 70,
   "metadata": {},
   "outputs": [
    {
     "name": "stderr",
     "output_type": "stream",
     "text": [
      "C:\\Users\\Aditya\\Anaconda3\\lib\\site-packages\\ipykernel_launcher.py:13: FutureWarning: Method .as_matrix will be removed in a future version. Use .values instead.\n",
      "  del sys.path[0]\n"
     ]
    }
   ],
   "source": [
    "faces, emotions = load_fer2013()\n",
    "faces = preprocess_input(faces)"
   ]
  },
  {
   "cell_type": "markdown",
   "metadata": {},
   "source": [
    "# Split the data into test and train"
   ]
  },
  {
   "cell_type": "code",
   "execution_count": 71,
   "metadata": {},
   "outputs": [],
   "source": [
    "from sklearn.model_selection import train_test_split\n",
    "num_samples, num_classes = emotions.shape\n",
    "xtrain, xtest,ytrain,ytest = train_test_split(faces, emotions,test_size=0.2,shuffle=True)"
   ]
  },
  {
   "cell_type": "markdown",
   "metadata": {},
   "source": [
    "# Preparing the input for RF\n",
    "Converted the 4 dimensional data into 2 dimensional data."
   ]
  },
  {
   "cell_type": "code",
   "execution_count": 72,
   "metadata": {},
   "outputs": [
    {
     "name": "stdout",
     "output_type": "stream",
     "text": [
      "[[-0.6784314  -0.29411763 -0.2235294  ... -0.94509804 -0.8901961\n",
      "  -0.85882354]\n",
      " [-0.4352941   0.00392163  0.28627455 ...  0.77254903  0.6862745\n",
      "   0.47450984]\n",
      " [-0.27843136  0.19215691  0.18431377 ... -0.5529412  -0.5529412\n",
      "  -0.54509807]\n",
      " ...\n",
      " [ 0.69411767 -0.18431371 -0.8117647  ...  0.60784316  0.67058825\n",
      "   0.69411767]\n",
      " [-0.46666664 -0.5529412  -0.54509807 ...  0.34901965  0.34901965\n",
      "   0.3411765 ]\n",
      " [ 0.43529415  0.45098042  0.4039216  ... -0.5686275  -0.46666664\n",
      "  -0.23921567]]\n"
     ]
    }
   ],
   "source": [
    "x=xtrain.shape[0]\n",
    "y=xtrain.shape[1]*xtrain.shape[2]\n",
    "xtrain.resize((x,y)) # a 2D array\n",
    "print(xtrain)"
   ]
  },
  {
   "cell_type": "code",
   "execution_count": 73,
   "metadata": {},
   "outputs": [
    {
     "name": "stdout",
     "output_type": "stream",
     "text": [
      "[[ 0.92156863  0.92941177  0.9137255  ...  0.85882354  0.8509804\n",
      "   0.85882354]\n",
      " [ 0.6392157   0.6392157   0.67058825 ...  0.03529418  0.04313731\n",
      "   0.02745104]\n",
      " [-0.78039217 -0.69411767 -0.5372549  ... -0.5686275  -0.5294118\n",
      "  -0.6784314 ]\n",
      " ...\n",
      " [ 0.96862745  0.96862745  0.96862745 ... -0.08235294 -0.01176471\n",
      "   0.00392163]\n",
      " [-0.9372549  -0.92156863 -0.92156863 ... -0.24705881  0.5137255\n",
      "   0.34901965]\n",
      " [ 0.9137255   0.9137255   0.92941177 ... -0.23137254 -0.15294117\n",
      "  -0.00392157]]\n"
     ]
    }
   ],
   "source": [
    "x=xtest.shape[0]\n",
    "y=xtest.shape[1]*xtest.shape[2]\n",
    "xtest.resize((x,y)) # a 2D array\n",
    "print(xtest)"
   ]
  },
  {
   "cell_type": "code",
   "execution_count": 74,
   "metadata": {},
   "outputs": [],
   "source": [
    "from sklearn.model_selection import train_test_split\n",
    "from sklearn.ensemble import RandomForestClassifier\n",
    "from sklearn.metrics import accuracy_score\n",
    "from sklearn import metrics"
   ]
  },
  {
   "cell_type": "markdown",
   "metadata": {},
   "source": [
    "# Fit the model"
   ]
  },
  {
   "cell_type": "code",
   "execution_count": 75,
   "metadata": {},
   "outputs": [
    {
     "name": "stderr",
     "output_type": "stream",
     "text": [
      "C:\\Users\\Aditya\\Anaconda3\\lib\\site-packages\\sklearn\\ensemble\\forest.py:246: FutureWarning: The default value of n_estimators will change from 10 in version 0.20 to 100 in 0.22.\n",
      "  \"10 in version 0.20 to 100 in 0.22.\", FutureWarning)\n"
     ]
    },
    {
     "name": "stdout",
     "output_type": "stream",
     "text": [
      "random forest accuracy:  0.1330454165505712\n"
     ]
    }
   ],
   "source": [
    "clf_rf = RandomForestClassifier()\n",
    "clf_rf.fit(xtrain, ytrain)\n",
    "predicted = clf_rf.predict(xtest)\n",
    "acc_rf = accuracy_score(ytest, predicted)\n",
    "print (\"random forest accuracy: \",acc_rf)"
   ]
  },
  {
   "cell_type": "markdown",
   "metadata": {},
   "source": [
    "# Result and Description\n",
    "Random forest considered to be highly accurate and robust because of the number of decision trees in the process. Does not suffer from overfitting problem. Main reason,takes the average of all the predictors and cancels bias\n",
    "Classification on an input image is carried out by randomly extracting subwindows in the image and propagating scaled subwindows down each tree in the forest. Votes from each of the random trees for all sampled subwindows are aggregated. A simple voting scheme with majority ruling awards the corresponding class label\n",
    "\n",
    "# Accuracy\n",
    "The accuracy is 13.30%"
   ]
  },
  {
   "cell_type": "code",
   "execution_count": null,
   "metadata": {},
   "outputs": [],
   "source": []
  },
  {
   "cell_type": "code",
   "execution_count": 59,
   "metadata": {},
   "outputs": [],
   "source": []
  },
  {
   "cell_type": "code",
   "execution_count": null,
   "metadata": {},
   "outputs": [],
   "source": []
  },
  {
   "cell_type": "code",
   "execution_count": null,
   "metadata": {},
   "outputs": [],
   "source": []
  },
  {
   "cell_type": "code",
   "execution_count": null,
   "metadata": {},
   "outputs": [],
   "source": []
  },
  {
   "cell_type": "code",
   "execution_count": null,
   "metadata": {},
   "outputs": [],
   "source": []
  },
  {
   "cell_type": "code",
   "execution_count": null,
   "metadata": {},
   "outputs": [],
   "source": []
  }
 ],
 "metadata": {
  "kernelspec": {
   "display_name": "Python 3",
   "language": "python",
   "name": "python3"
  },
  "language_info": {
   "codemirror_mode": {
    "name": "ipython",
    "version": 3
   },
   "file_extension": ".py",
   "mimetype": "text/x-python",
   "name": "python",
   "nbconvert_exporter": "python",
   "pygments_lexer": "ipython3",
   "version": "3.7.1"
  }
 },
 "nbformat": 4,
 "nbformat_minor": 2
}
